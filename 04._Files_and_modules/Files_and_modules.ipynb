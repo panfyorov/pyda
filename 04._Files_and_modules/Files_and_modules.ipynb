{
 "cells": [
  {
   "cell_type": "code",
   "execution_count": 2,
   "metadata": {},
   "outputs": [],
   "source": [
    "import json \n",
    "with open('purchase_log.txt', 'r', encoding='utf-8') as f:\n",
    "    purchases={}\n",
    "    next(f) \n",
    "    for line in f:\n",
    "        purchase=json.loads(line.strip())\n",
    "        purchases[purchase['user_id']]=purchase['category']\n",
    "\n",
    "with open('visit_log.csv', 'r') as f:\n",
    "    with open('funnel.csv', 'w') as funnel:\n",
    "        funnel.write(f.readline().strip()+',category\\n')\n",
    "        for line in f:\n",
    "            visit=line.strip().split(',')\n",
    "            if visit[0] in purchases.keys():\n",
    "                visit.append(purchases[visit[0]])\n",
    "                funnel.write(','.join(visit)+'\\n')"
   ]
  }
 ],
 "metadata": {
  "kernelspec": {
   "display_name": "Python 3",
   "language": "python",
   "name": "python3"
  },
  "language_info": {
   "codemirror_mode": {
    "name": "ipython",
    "version": 3
   },
   "file_extension": ".py",
   "mimetype": "text/x-python",
   "name": "python",
   "nbconvert_exporter": "python",
   "pygments_lexer": "ipython3",
   "version": "3.8.5"
  }
 },
 "nbformat": 4,
 "nbformat_minor": 4
}
